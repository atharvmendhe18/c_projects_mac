{
 "cells": [
  {
   "cell_type": "code",
   "execution_count": 1,
   "metadata": {},
   "outputs": [
    {
     "name": "stdout",
     "output_type": "stream",
     "text": [
      "{1, 2, 3, 4, 5, 6, 8}\n",
      "<built-in method intersection of set object at 0x1094f1620>\n",
      "{1, 2, 3, 4, 5, 6, 8, 9, 12, 15}\n",
      "{1, 2, 4, 5, 8}\n",
      "False\n",
      "False\n",
      "{3, 6, 9, 15}\n",
      "True\n",
      "{1, 2, 3, 4, 6, 8}\n",
      "{2, 3, 4, 6, 8}\n"
     ]
    }
   ],
   "source": [
    "#Atharv Mendhe C-1-1 \n",
    "\n",
    "s1={1,2,3,4,5,6}\n",
    "s2={3,6,9,12,15}\n",
    "\n",
    "s1.add(8)       #Adds an element to the set\n",
    "print(s1)\n",
    "\n",
    "print(s1.intersection)  #Returns a set,that is the intersection of sets\n",
    "\n",
    "print(s1.union(s2))     #Returns a set containing the union of sets\n",
    "\n",
    "print(s1.difference(s2)) #Returns a set containing the difference between sets\n",
    "\n",
    "print(s1.isdisjoint(s2))  #Returns whethr two sets have intersection or not\n",
    "\n",
    "sup={1,2,3,4,5,6,10,14,15}\n",
    "print(s1.issubset(sup)) #Returns whether another set contains this set or not\n",
    "\n",
    "s2.discard(12)      #Remove the specified item\n",
    "print(s2)\n",
    "\n",
    "sub={1,2,3}\n",
    "print(s1.issuperset(sub))   #Returns whether this set contains another set or not\n",
    "\n",
    "s1.remove(5)    #Removes the specified element\n",
    "print(s1)\n",
    "\n",
    "s1.pop()        #Removes an element from the set\n",
    "print(s1)"
   ]
  },
  {
   "cell_type": "code",
   "execution_count": 2,
   "metadata": {},
   "outputs": [
    {
     "name": "stdout",
     "output_type": "stream",
     "text": [
      "(1, 2, 3, 4, 5, 1)\n",
      "6\n",
      "16\n",
      "2\n",
      "1\n"
     ]
    }
   ],
   "source": [
    "#Atharv Mendhe C-1-1 \n",
    "\n",
    "tup=(1,2,3,4,5,1)\n",
    "\n",
    "print(tup)\n",
    "\n",
    "print(len(tup)) #finds length of tuple\n",
    "\n",
    "print(sum(tup)) #returns sum of all tuple elements\n",
    "\n",
    "print(tup.count(1)) #finds length of tuple\n",
    "\n",
    "print(tup.index(2)) #returns first found index of specified value"
   ]
  },
  {
   "cell_type": "code",
   "execution_count": 8,
   "metadata": {},
   "outputs": [
    {
     "name": "stdout",
     "output_type": "stream",
     "text": [
      "[(5, 1)]\n",
      "[(3, 1), (5, 1)]\n",
      "[(3, 1), (5, 2)]\n",
      "[(3, 1), (5, 3)]\n"
     ]
    }
   ],
   "source": [
    "#Atharv  Mendhe C-1-1 \n",
    "\n",
    "def histogram(l):\n",
    "    dictionary={}\n",
    "\n",
    "    for i in l:\n",
    "        if i in dictionary:\n",
    "            dictionary[i]+=1\n",
    "        else:\n",
    "            dictionary[i]=1\n",
    "\n",
    "        pairs=[(i,count) for i,count in dictionary.items()]\n",
    "\n",
    "        sorted_pairs= sorted(pairs, key=lambda x:(x[1], x[0]))\n",
    "\n",
    "        print(sorted_pairs)\n",
    "\n",
    "n=int(input('\\n Enter the number of elements in a list:'))\n",
    "li=[]\n",
    "for i in range(n):\n",
    "    element=int(input('Enter the elements of the list:'))\n",
    "    li.append(element)\n",
    "\n",
    "histogram(li)"
   ]
  },
  {
   "cell_type": "code",
   "execution_count": 5,
   "metadata": {},
   "outputs": [
    {
     "name": "stdout",
     "output_type": "stream",
     "text": [
      "[1, 2, 3, 4, 5, 3, 6]\n",
      "2\n",
      "[1, 2, 3, 4, 5, 3, 6]\n",
      "[1, 2, 3, 4, 5, 3, 6, 12, 33, 61]\n",
      "4\n",
      "[1, 2, 3, 4, 5, 3, 6, 12, 33, 61, 31]\n",
      "[1, 2, 3, 3, 4, 5, 6, 12, 31, 33, 61]\n",
      "[1, 2, 3, 4, 5, 6, 12, 31, 33, 61]\n",
      "[61, 33, 31, 12, 6, 5, 4, 3, 2, 1]\n",
      "[61, 33, 31, 12, 6, 5, 4, 3, 1]\n",
      "[]\n"
     ]
    }
   ],
   "source": [
    "#Atharv  Mendhe C-1-1 \n",
    "\n",
    "li=[1,2,3,4,5,3]\n",
    "\n",
    "li.append(6)   #Adding an element to the end\n",
    "print(li)\n",
    "\n",
    "print(li.count(3))\n",
    "\n",
    "l_copy=li.copy()    #Retrns copy of the list\n",
    "print(l_copy)\n",
    "\n",
    "li.extend([12,33,61])\n",
    "print(li)\n",
    "\n",
    "print(li.index(5))  #Returns the index of the first elements with the specified value\n",
    "\n",
    "li.insert(22,31)\n",
    "print(li)\n",
    "\n",
    "li.sort()       #Sorts the list\n",
    "print(li)\n",
    "\n",
    "li.pop(2)       #Removes the element at specified position\n",
    "print(li)\n",
    "\n",
    "li.reverse()    #Reverses the order of the list\n",
    "print(li)\n",
    "\n",
    "li.remove(2)    #Removes the first item with the specified value\n",
    "print(li)\n",
    "\n",
    "li.clear()      #Removes all the elements from the list\n",
    "print(li)"
   ]
  },
  {
   "cell_type": "code",
   "execution_count": 6,
   "metadata": {},
   "outputs": [
    {
     "name": "stdout",
     "output_type": "stream",
     "text": [
      "False\n"
     ]
    }
   ],
   "source": [
    "#Atharv  Mendhe \n",
    "\n",
    "def perfect(x):\n",
    "    sum=0\n",
    "    for i in range(1,n):\n",
    "        if x%i==0:\n",
    "            sum = sum+i\n",
    "            if(sum==x):\n",
    "                return True\n",
    "    return False\n",
    "\n",
    "n=int(input('Enter number:'))\n",
    "print(perfect(n))"
   ]
  },
  {
   "cell_type": "code",
   "execution_count": 9,
   "metadata": {},
   "outputs": [
    {
     "name": "stdout",
     "output_type": "stream",
     "text": [
      "dict_values([1, 2, 3, 4, 5])\n",
      "dict_keys(['a', 'b', 'c', 'd', 'e'])\n",
      "dict_items([('a', 1), ('b', 2), ('c', 3), ('d', 4), ('e', 5)])\n",
      "{'a': 1, 'b': 2, 'd': 4, 'e': 5}\n",
      "2\n",
      "{'a': 1, 'b': 2, 'd': 4}\n",
      "{'a': 1, 'b': 2, 'd': 4, 'e': 5}\n",
      "1\n"
     ]
    }
   ],
   "source": [
    "#Atharv Mendhe C-1-1 C022\n",
    "\n",
    "d={'a':1,'b':2,'c':3,'d':4,'e':5}\n",
    "\n",
    "print(d.values())\n",
    "\n",
    "print(d.keys())\n",
    "\n",
    "print(d.items())\n",
    "\n",
    "d.pop('c')\n",
    "print(d)\n",
    "\n",
    "print(d.get('b'))\n",
    "\n",
    "d.popitem()\n",
    "print(d)\n",
    "\n",
    "d.update({'e':5})\n",
    "print(d)\n",
    "\n",
    "print(d.setdefault('a'))"
   ]
  }
 ],
 "metadata": {
  "kernelspec": {
   "display_name": "Python 3",
   "language": "python",
   "name": "python3"
  },
  "language_info": {
   "codemirror_mode": {
    "name": "ipython",
    "version": 3
   },
   "file_extension": ".py",
   "mimetype": "text/x-python",
   "name": "python",
   "nbconvert_exporter": "python",
   "pygments_lexer": "ipython3",
   "version": "3.11.4"
  }
 },
 "nbformat": 4,
 "nbformat_minor": 2
}
